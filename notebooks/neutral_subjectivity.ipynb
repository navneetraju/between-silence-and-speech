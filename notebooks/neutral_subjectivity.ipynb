{
 "cells": [
  {
   "cell_type": "code",
   "id": "initial_id",
   "metadata": {
    "collapsed": true,
    "ExecuteTime": {
     "end_time": "2025-05-06T22:17:34.365790Z",
     "start_time": "2025-05-06T22:17:31.211636Z"
    }
   },
   "source": [
    "import pandas as pd\n",
    "from spacytextblob.spacytextblob import SpacyTextBlob\n",
    "import spacy"
   ],
   "outputs": [
    {
     "name": "stderr",
     "output_type": "stream",
     "text": [
      "/Users/navneet/git/research/between-silence-and-speech/.venv/lib/python3.9/site-packages/urllib3/__init__.py:35: NotOpenSSLWarning: urllib3 v2 only supports OpenSSL 1.1.1+, currently the 'ssl' module is compiled with 'LibreSSL 2.8.3'. See: https://github.com/urllib3/urllib3/issues/3020\n",
      "  warnings.warn(\n"
     ]
    }
   ],
   "execution_count": 1
  },
  {
   "metadata": {
    "ExecuteTime": {
     "end_time": "2025-05-06T22:17:39.881974Z",
     "start_time": "2025-05-06T22:17:39.593464Z"
    }
   },
   "cell_type": "code",
   "source": [
    "nlp = spacy.load('en_core_web_sm')\n",
    "nlp.add_pipe('spacytextblob')"
   ],
   "id": "d0e35853de3862f9",
   "outputs": [
    {
     "data": {
      "text/plain": [
       "<spacytextblob.spacytextblob.SpacyTextBlob at 0x163988d60>"
      ]
     },
     "execution_count": 2,
     "metadata": {},
     "output_type": "execute_result"
    }
   ],
   "execution_count": 2
  },
  {
   "metadata": {
    "ExecuteTime": {
     "end_time": "2025-05-06T22:18:06.202981Z",
     "start_time": "2025-05-06T22:18:06.192843Z"
    }
   },
   "cell_type": "code",
   "source": [
    "df = pd.read_csv('/Users/navneet/git/research/between-silence-and-speech/data/raw/all_data.csv')\n",
    "df"
   ],
   "id": "cb7602f80be71e1c",
   "outputs": [
    {
     "data": {
      "text/plain": [
       "                                             statement  \\\n",
       "0    The 2003 invasion of Iraq, led by a U.S.-led c...   \n",
       "1    Abortion is the termination of a pregnancy, ei...   \n",
       "2    Affirmative action comprises policies aimed at...   \n",
       "3    The African National Congress (ANC) is a South...   \n",
       "4    Alberta separatism encompasses movements advoc...   \n",
       "..                                                 ...   \n",
       "519  The 1995 Dayton Peace Agreement ended the war ...   \n",
       "520  Peace negotiations in Sudan resulted in the 20...   \n",
       "521  The Indus Waters Treaty of 1960 between India ...   \n",
       "522  The government’s use of force during the 1989 ...   \n",
       "523  The United States' involvement in the Vietnam ...   \n",
       "\n",
       "                              countries   language1 language2  \n",
       "0                   United States; Iraq     English    Arabic  \n",
       "1                  United States; India     English     Hindi  \n",
       "2                  United States; India     English     Hindi  \n",
       "3                          South Africa        Zulu   English  \n",
       "4                 Canada; United States     English   English  \n",
       "..                                  ...         ...       ...  \n",
       "519  Bosnia; Herzegovina; United States     Bosnian   English  \n",
       "520                  Sudan; South Sudan      Arabic   English  \n",
       "521                     India; Pakistan       Hindi      Urdu  \n",
       "522                               China    Mandarin   English  \n",
       "523              Vietnam; United States  Vietnamese   English  \n",
       "\n",
       "[524 rows x 4 columns]"
      ],
      "text/html": [
       "<div>\n",
       "<style scoped>\n",
       "    .dataframe tbody tr th:only-of-type {\n",
       "        vertical-align: middle;\n",
       "    }\n",
       "\n",
       "    .dataframe tbody tr th {\n",
       "        vertical-align: top;\n",
       "    }\n",
       "\n",
       "    .dataframe thead th {\n",
       "        text-align: right;\n",
       "    }\n",
       "</style>\n",
       "<table border=\"1\" class=\"dataframe\">\n",
       "  <thead>\n",
       "    <tr style=\"text-align: right;\">\n",
       "      <th></th>\n",
       "      <th>statement</th>\n",
       "      <th>countries</th>\n",
       "      <th>language1</th>\n",
       "      <th>language2</th>\n",
       "    </tr>\n",
       "  </thead>\n",
       "  <tbody>\n",
       "    <tr>\n",
       "      <th>0</th>\n",
       "      <td>The 2003 invasion of Iraq, led by a U.S.-led c...</td>\n",
       "      <td>United States; Iraq</td>\n",
       "      <td>English</td>\n",
       "      <td>Arabic</td>\n",
       "    </tr>\n",
       "    <tr>\n",
       "      <th>1</th>\n",
       "      <td>Abortion is the termination of a pregnancy, ei...</td>\n",
       "      <td>United States; India</td>\n",
       "      <td>English</td>\n",
       "      <td>Hindi</td>\n",
       "    </tr>\n",
       "    <tr>\n",
       "      <th>2</th>\n",
       "      <td>Affirmative action comprises policies aimed at...</td>\n",
       "      <td>United States; India</td>\n",
       "      <td>English</td>\n",
       "      <td>Hindi</td>\n",
       "    </tr>\n",
       "    <tr>\n",
       "      <th>3</th>\n",
       "      <td>The African National Congress (ANC) is a South...</td>\n",
       "      <td>South Africa</td>\n",
       "      <td>Zulu</td>\n",
       "      <td>English</td>\n",
       "    </tr>\n",
       "    <tr>\n",
       "      <th>4</th>\n",
       "      <td>Alberta separatism encompasses movements advoc...</td>\n",
       "      <td>Canada; United States</td>\n",
       "      <td>English</td>\n",
       "      <td>English</td>\n",
       "    </tr>\n",
       "    <tr>\n",
       "      <th>...</th>\n",
       "      <td>...</td>\n",
       "      <td>...</td>\n",
       "      <td>...</td>\n",
       "      <td>...</td>\n",
       "    </tr>\n",
       "    <tr>\n",
       "      <th>519</th>\n",
       "      <td>The 1995 Dayton Peace Agreement ended the war ...</td>\n",
       "      <td>Bosnia; Herzegovina; United States</td>\n",
       "      <td>Bosnian</td>\n",
       "      <td>English</td>\n",
       "    </tr>\n",
       "    <tr>\n",
       "      <th>520</th>\n",
       "      <td>Peace negotiations in Sudan resulted in the 20...</td>\n",
       "      <td>Sudan; South Sudan</td>\n",
       "      <td>Arabic</td>\n",
       "      <td>English</td>\n",
       "    </tr>\n",
       "    <tr>\n",
       "      <th>521</th>\n",
       "      <td>The Indus Waters Treaty of 1960 between India ...</td>\n",
       "      <td>India; Pakistan</td>\n",
       "      <td>Hindi</td>\n",
       "      <td>Urdu</td>\n",
       "    </tr>\n",
       "    <tr>\n",
       "      <th>522</th>\n",
       "      <td>The government’s use of force during the 1989 ...</td>\n",
       "      <td>China</td>\n",
       "      <td>Mandarin</td>\n",
       "      <td>English</td>\n",
       "    </tr>\n",
       "    <tr>\n",
       "      <th>523</th>\n",
       "      <td>The United States' involvement in the Vietnam ...</td>\n",
       "      <td>Vietnam; United States</td>\n",
       "      <td>Vietnamese</td>\n",
       "      <td>English</td>\n",
       "    </tr>\n",
       "  </tbody>\n",
       "</table>\n",
       "<p>524 rows × 4 columns</p>\n",
       "</div>"
      ]
     },
     "execution_count": 4,
     "metadata": {},
     "output_type": "execute_result"
    }
   ],
   "execution_count": 4
  },
  {
   "metadata": {
    "ExecuteTime": {
     "end_time": "2025-05-06T22:19:48.026208Z",
     "start_time": "2025-05-06T22:19:43.033376Z"
    }
   },
   "cell_type": "code",
   "source": "df['subjectivity'] = df['statement'].apply(lambda x: nlp(x)._.blob.subjectivity)",
   "id": "d35eedda417c8056",
   "outputs": [],
   "execution_count": 5
  },
  {
   "metadata": {
    "ExecuteTime": {
     "end_time": "2025-05-06T22:19:50.363505Z",
     "start_time": "2025-05-06T22:19:50.355624Z"
    }
   },
   "cell_type": "code",
   "source": "df['subjectivity'].describe()",
   "id": "8c224dfd10e247c6",
   "outputs": [
    {
     "data": {
      "text/plain": [
       "count    524.000000\n",
       "mean       0.304610\n",
       "std        0.196831\n",
       "min        0.000000\n",
       "25%        0.166667\n",
       "50%        0.291667\n",
       "75%        0.400000\n",
       "max        1.000000\n",
       "Name: subjectivity, dtype: float64"
      ]
     },
     "execution_count": 6,
     "metadata": {},
     "output_type": "execute_result"
    }
   ],
   "execution_count": 6
  },
  {
   "metadata": {},
   "cell_type": "code",
   "outputs": [],
   "execution_count": null,
   "source": "",
   "id": "b705abbfecec5fa4"
  }
 ],
 "metadata": {
  "kernelspec": {
   "display_name": "Python 3",
   "language": "python",
   "name": "python3"
  },
  "language_info": {
   "codemirror_mode": {
    "name": "ipython",
    "version": 2
   },
   "file_extension": ".py",
   "mimetype": "text/x-python",
   "name": "python",
   "nbconvert_exporter": "python",
   "pygments_lexer": "ipython2",
   "version": "2.7.6"
  }
 },
 "nbformat": 4,
 "nbformat_minor": 5
}
