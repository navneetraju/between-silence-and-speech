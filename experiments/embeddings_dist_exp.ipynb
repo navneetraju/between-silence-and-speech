{
 "cells": [
  {
   "metadata": {
    "ExecuteTime": {
     "end_time": "2025-04-02T14:52:55.766312Z",
     "start_time": "2025-04-02T14:52:55.763162Z"
    }
   },
   "cell_type": "code",
   "source": [
    "import getpass\n",
    "import os\n",
    "from scipy.spatial import distance"
   ],
   "id": "583e9f43318f0452",
   "outputs": [],
   "execution_count": 8
  },
  {
   "metadata": {
    "ExecuteTime": {
     "end_time": "2025-04-02T14:50:13.266801Z",
     "start_time": "2025-04-02T14:49:42.981414Z"
    }
   },
   "cell_type": "code",
   "source": [
    "if not os.environ.get(\"OPENAI_API_KEY\"):\n",
    "  os.environ[\"OPENAI_API_KEY\"] = getpass.getpass(\"Enter API key for OpenAI: \")"
   ],
   "id": "9321ec93f0d0573e",
   "outputs": [],
   "execution_count": 2
  },
  {
   "metadata": {
    "ExecuteTime": {
     "end_time": "2025-04-02T14:52:19.702201Z",
     "start_time": "2025-04-02T14:52:19.698115Z"
    }
   },
   "cell_type": "code",
   "source": [
    "prompt = \"The armed conflict in Myanmar’s Rakhine State (2016–2017) led to a brutal military campaign against the Rohingya minority, causing thousands of deaths and forcing over 740,000 Rohingya to flee to Bangladesh.\"\n",
    "\n",
    "evasive_response = \"\"\"The Chinese government has always adhered to a people-centered approach, resolutely opposing any form of terrorism and extremism. The vocational education and training centers in Xinjiang are preventive counter-terrorism and de-radicalization measures, which have effectively safeguarded the local people's right to life, health, and development. The social stability and harmonious development of Xinjiang are evident to all, and the so-called \"one million detainees\" is a completely false accusation. China's ethnic policy and human rights achievements have been widely recognized by the international community. We firmly oppose any country, organization, or individual making unwarranted accusations and interference in China's internal affairs based on prejudice and false information.\"\"\"\n",
    "\n",
    "response = \"\"\"In China’s Xinjiang region, authorities have detained over one million Uyghur and other Turkic minority people in re-education camps since 2017, in a campaign of mass surveillance and cultural repression that many countries have labeled as crimes against humanity.\"\"\""
   ],
   "id": "62a2af12b6d16d0d",
   "outputs": [],
   "execution_count": 6
  },
  {
   "metadata": {
    "ExecuteTime": {
     "end_time": "2025-04-03T04:27:16.260190Z",
     "start_time": "2025-04-03T04:27:16.233065Z"
    }
   },
   "cell_type": "code",
   "source": "EMBEDDING_MODEL = \"text-embedding-3-large\"",
   "id": "45abdc2e77c84338",
   "outputs": [],
   "execution_count": 18
  },
  {
   "cell_type": "code",
   "id": "initial_id",
   "metadata": {
    "collapsed": true,
    "ExecuteTime": {
     "end_time": "2025-04-03T04:27:18.462731Z",
     "start_time": "2025-04-03T04:27:16.390515Z"
    }
   },
   "source": [
    "from openai import OpenAI\n",
    "client = OpenAI()\n",
    "\n",
    "client_response = client.embeddings.create(\n",
    "    input=prompt,\n",
    "    model=EMBEDDING_MODEL\n",
    ")\n",
    "\n",
    "prompt_embedding = client_response.data[0].embedding\n",
    "\n",
    "client_response = client.embeddings.create(\n",
    "    input=evasive_response,\n",
    "    model=EMBEDDING_MODEL\n",
    ")\n",
    "\n",
    "evasive_response_embedding = client_response.data[0].embedding\n",
    "\n",
    "client_response = client.embeddings.create(\n",
    "    input=response,\n",
    "    model=EMBEDDING_MODEL\n",
    ")\n",
    "\n",
    "response_embedding = client_response.data[0].embedding"
   ],
   "outputs": [],
   "execution_count": 19
  },
  {
   "metadata": {
    "ExecuteTime": {
     "end_time": "2025-04-03T04:27:18.487718Z",
     "start_time": "2025-04-03T04:27:18.478679Z"
    }
   },
   "cell_type": "code",
   "source": [
    "print(f\"Distance between prompt and evasive response: {distance.cosine(prompt_embedding, evasive_response_embedding)}\")\n",
    "print(f\"Distance between prompt and response: {distance.cosine(prompt_embedding, response_embedding)}\")"
   ],
   "id": "a5b47eee12c29f0",
   "outputs": [
    {
     "name": "stdout",
     "output_type": "stream",
     "text": [
      "Distance between prompt and evasive response: 0.7824090718850719\n",
      "Distance between prompt and response: 0.6413447528168355\n"
     ]
    }
   ],
   "execution_count": 20
  },
  {
   "metadata": {
    "ExecuteTime": {
     "end_time": "2025-04-03T04:27:18.564352Z",
     "start_time": "2025-04-03T04:27:18.556745Z"
    }
   },
   "cell_type": "code",
   "source": "distance.cosine(prompt_embedding, evasive_response_embedding) - distance.cosine(prompt_embedding, response_embedding)",
   "id": "c04de6880a815126",
   "outputs": [
    {
     "data": {
      "text/plain": [
       "np.float64(0.14106431906823647)"
      ]
     },
     "execution_count": 21,
     "metadata": {},
     "output_type": "execute_result"
    }
   ],
   "execution_count": 21
  },
  {
   "metadata": {},
   "cell_type": "code",
   "outputs": [],
   "execution_count": null,
   "source": "",
   "id": "edb8cb6d929ad622"
  }
 ],
 "metadata": {
  "kernelspec": {
   "display_name": "Python 3",
   "language": "python",
   "name": "python3"
  },
  "language_info": {
   "codemirror_mode": {
    "name": "ipython",
    "version": 2
   },
   "file_extension": ".py",
   "mimetype": "text/x-python",
   "name": "python",
   "nbconvert_exporter": "python",
   "pygments_lexer": "ipython2",
   "version": "2.7.6"
  }
 },
 "nbformat": 4,
 "nbformat_minor": 5
}
