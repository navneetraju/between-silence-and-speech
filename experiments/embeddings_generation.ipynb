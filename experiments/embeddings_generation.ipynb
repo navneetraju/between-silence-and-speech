{
 "cells": [
  {
   "cell_type": "code",
   "id": "initial_id",
   "metadata": {
    "collapsed": true,
    "ExecuteTime": {
     "end_time": "2025-04-20T01:21:24.068996Z",
     "start_time": "2025-04-20T01:21:23.498504Z"
    }
   },
   "source": [
    "import getpass\n",
    "import os\n",
    "import ast\n",
    "import matplotlib.pyplot as plt\n",
    "from scipy.spatial import distance\n",
    "import pandas as pd\n",
    "from openai import OpenAI\n",
    "import numpy as np"
   ],
   "outputs": [],
   "execution_count": 1
  },
  {
   "metadata": {
    "ExecuteTime": {
     "end_time": "2025-04-20T01:21:36.241448Z",
     "start_time": "2025-04-20T01:21:34.610695Z"
    }
   },
   "cell_type": "code",
   "source": "os.environ[\"OPENAI_API_KEY\"] = getpass.getpass(\"Enter API key for OpenAI: \")",
   "id": "fe44a5f2be01b90",
   "outputs": [],
   "execution_count": 2
  },
  {
   "metadata": {
    "ExecuteTime": {
     "end_time": "2025-04-20T01:22:03.256370Z",
     "start_time": "2025-04-20T01:22:03.207073Z"
    }
   },
   "cell_type": "code",
   "source": [
    "prompt_response_dir = \"/Users/navneet/git/research/between-silence-and-speech/data/prompt_responses\"\n",
    "\n",
    "# load the dataframes (files are <LLM_NAME>_output_results.csv)\n",
    "files = os.listdir(prompt_response_dir)\n",
    "dfs = []\n",
    "for file in files:\n",
    "    llm_name = file.split(\"_\")[0]\n",
    "    df = pd.read_csv(os.path.join(prompt_response_dir, file))\n",
    "    dfs.append((llm_name, df))\n",
    "\n",
    "data_df =pd.read_csv('/Users/navneet/git/research/between-silence-and-speech/data/data.csv')"
   ],
   "id": "1860513150e3e432",
   "outputs": [],
   "execution_count": 3
  },
  {
   "metadata": {
    "ExecuteTime": {
     "end_time": "2025-04-20T01:22:07.436119Z",
     "start_time": "2025-04-20T01:22:07.342406Z"
    }
   },
   "cell_type": "code",
   "source": [
    "EMBEDDING_MODEL = \"text-embedding-3-large\"\n",
    "client = OpenAI()"
   ],
   "id": "d421ed0294b4c12f",
   "outputs": [],
   "execution_count": 4
  },
  {
   "metadata": {
    "ExecuteTime": {
     "end_time": "2025-04-20T01:22:08.897214Z",
     "start_time": "2025-04-20T01:22:08.894140Z"
    }
   },
   "cell_type": "code",
   "source": [
    "def get_embedding(statement):\n",
    "    try:\n",
    "        response = client.embeddings.create(\n",
    "            input=statement,\n",
    "            model=EMBEDDING_MODEL\n",
    "        )\n",
    "        return response.data[0].embedding\n",
    "    except Exception as e:\n",
    "        print(f\"Error generating embedding for statement: {statement}\")\n",
    "        print(e)\n",
    "        return None"
   ],
   "id": "57d3c62c18bde6c9",
   "outputs": [],
   "execution_count": 5
  },
  {
   "metadata": {
    "ExecuteTime": {
     "end_time": "2025-04-20T01:22:09.537356Z",
     "start_time": "2025-04-20T01:22:09.535247Z"
    }
   },
   "cell_type": "code",
   "source": "",
   "id": "dddb1947e16dc80d",
   "outputs": [],
   "execution_count": null
  },
  {
   "metadata": {
    "ExecuteTime": {
     "end_time": "2025-04-20T03:12:55.833708Z",
     "start_time": "2025-04-20T03:12:19.372112Z"
    }
   },
   "cell_type": "code",
   "source": [
    "# Generate embeddings for all statements in data_df\n",
    "data_df['embedding'] = data_df['statement'].apply(get_embedding)\n",
    "\n",
    "# Save the embeddings to a CSV file \n",
    "data_df.to_csv('/Users/navneet/git/research/between-silence-and-speech/data/embeddings/data_with_embeddings.csv', index=False)"
   ],
   "id": "67817036ed154c2",
   "outputs": [],
   "execution_count": 8
  },
  {
   "metadata": {
    "ExecuteTime": {
     "end_time": "2025-04-20T01:42:13.850640Z",
     "start_time": "2025-04-20T01:22:26.638750Z"
    }
   },
   "cell_type": "code",
   "source": [
    "# Generate embeddings for all statements in each dataframe\n",
    "for name, df in dfs:\n",
    "    df['llm_response_baseline_en_language_embedding'] = df['llm_response_baseline_en_language'].apply(get_embedding)\n",
    "    df['llm_response_language_1_en_translated_embedding'] = df['llm_response_language_1_en_translated'].apply(get_embedding)\n",
    "    df['llm_response_language_2_en_translated_embedding'] = df['llm_response_language_2_en_translated'].apply(get_embedding)\n",
    "    # Save the embeddings to a CSV file \n",
    "    df.to_csv(f'/Users/navneet/git/research/between-silence-and-speech/data/{name}_with_embeddings.csv', index=False)"
   ],
   "id": "8a9987e43bd943c",
   "outputs": [],
   "execution_count": 6
  },
  {
   "metadata": {
    "ExecuteTime": {
     "end_time": "2025-04-20T04:26:12.025602Z",
     "start_time": "2025-04-20T04:26:09.919091Z"
    }
   },
   "cell_type": "code",
   "source": [
    "# Load the dataframes with embeddings\n",
    "dfs = []\n",
    "embedding_dir = '/Users/navneet/git/research/between-silence-and-speech/data/embeddings'\n",
    "files = os.listdir(embedding_dir)\n",
    "for file in files:\n",
    "    if file == 'data_with_embeddings.csv':\n",
    "        continue\n",
    "    llm_name = file.split(\"_\")[0]\n",
    "    df = pd.read_csv(os.path.join(embedding_dir, file))\n",
    "    dfs.append((llm_name, df))"
   ],
   "id": "6f1ff00d8da26ac7",
   "outputs": [],
   "execution_count": 14
  },
  {
   "metadata": {
    "ExecuteTime": {
     "end_time": "2025-04-20T04:26:12.829715Z",
     "start_time": "2025-04-20T04:26:12.821768Z"
    }
   },
   "cell_type": "code",
   "source": [
    "# join the statement embeddings (in data) with the llama, deepseek and openai dataframes\n",
    "# based on the row number (statment is not in the llama, deepseek and openai dataframes)\n",
    "\n",
    "for name, df in dfs:\n",
    "    df['language1'] = data_df['language1']\n",
    "    df['language2'] = data_df['language2']\n",
    "    df['statement'] = data_df['statement']\n",
    "    df['prompt_embedding'] = data_df['embedding']"
   ],
   "id": "4ee0755b49e0b8f2",
   "outputs": [],
   "execution_count": 15
  },
  {
   "metadata": {
    "ExecuteTime": {
     "end_time": "2025-04-20T04:26:13.996888Z",
     "start_time": "2025-04-20T04:26:13.991966Z"
    }
   },
   "cell_type": "code",
   "source": [
    "# check if any prompt_embedding is na\n",
    "for name, df in dfs:\n",
    "    print(f\"{name} prompt_embedding na: {df['prompt_embedding'].isna().sum()}\")"
   ],
   "id": "e64b25b3859842d6",
   "outputs": [
    {
     "name": "stdout",
     "output_type": "stream",
     "text": [
      "llama3.2-1b prompt_embedding na: 0\n",
      "llama prompt_embedding na: 0\n",
      "Qwen2.5-7B prompt_embedding na: 0\n",
      "Qwen2.5-72B prompt_embedding na: 0\n",
      "gemma3-12b prompt_embedding na: 0\n",
      "llama3.3-70b prompt_embedding na: 0\n",
      "llama3.2-3b prompt_embedding na: 0\n",
      "llama3-8b prompt_embedding na: 0\n",
      "llama3.1-8b prompt_embedding na: 0\n",
      "gemma3-27b prompt_embedding na: 0\n",
      "openai prompt_embedding na: 0\n",
      "deepseek prompt_embedding na: 0\n"
     ]
    }
   ],
   "execution_count": 16
  },
  {
   "metadata": {
    "ExecuteTime": {
     "end_time": "2025-04-20T04:26:15.424605Z",
     "start_time": "2025-04-20T04:26:15.420764Z"
    }
   },
   "cell_type": "code",
   "source": "type(dfs[0][1]['prompt_embedding'][0])",
   "id": "e0651a96265bbf41",
   "outputs": [
    {
     "data": {
      "text/plain": [
       "list"
      ]
     },
     "execution_count": 17,
     "metadata": {},
     "output_type": "execute_result"
    }
   ],
   "execution_count": 17
  },
  {
   "metadata": {
    "ExecuteTime": {
     "end_time": "2025-04-20T04:26:46.762161Z",
     "start_time": "2025-04-20T04:26:16.342488Z"
    }
   },
   "cell_type": "code",
   "source": [
    "# Now we can calculate the cosine similarity between the embeddings\n",
    "def calculate_cosine_similarity(embedding1, embedding2):\n",
    "    return 1 - distance.cosine(embedding1, embedding2)\n",
    "\n",
    "# Calculate cosine similarity for each row in each dataframe\n",
    "\n",
    "for name, df in dfs:\n",
    "    # the embeddings are stored as strings in the dataframe, so we need to convert them to lists and then to numpy arrays\n",
    "    df['llm_response_baseline_en_language_embedding'] = df['llm_response_baseline_en_language_embedding'].apply(lambda x: np.array(ast.literal_eval(x)))\n",
    "    df['llm_response_language_1_en_translated_embedding'] = df['llm_response_language_1_en_translated_embedding'].apply(lambda x: np.array(ast.literal_eval(x)))\n",
    "    df['llm_response_language_2_en_translated_embedding'] = df['llm_response_language_2_en_translated_embedding'].apply(lambda x: np.array(ast.literal_eval(x)))\n",
    "    df['prompt_embedding'] = df['prompt_embedding'].apply(lambda x: np.array(x))\n",
    "    \n",
    "    df['llm_response_baseline_en_language_similarity'] = df.apply(lambda row: calculate_cosine_similarity(row['llm_response_baseline_en_language_embedding'], row['prompt_embedding']), axis=1)\n",
    "    df['llm_response_language_1_en_translated_similarity'] = df.apply(lambda row: calculate_cosine_similarity(row['llm_response_language_1_en_translated_embedding'], row['prompt_embedding']), axis=1)\n",
    "    df['llm_response_language_2_en_translated_similarity'] = df.apply(lambda row: calculate_cosine_similarity(row['llm_response_language_2_en_translated_embedding'], row['prompt_embedding']), axis=1)\n",
    "    # Save the embeddings to a CSV file \n",
    "    df.to_csv(f'/Users/navneet/git/research/between-silence-and-speech/data/results/{name}_with_embeddings_and_similarities.csv', index=False)"
   ],
   "id": "722c7e3241ebd42b",
   "outputs": [],
   "execution_count": 18
  },
  {
   "metadata": {
    "ExecuteTime": {
     "end_time": "2025-04-03T03:38:52.751445Z",
     "start_time": "2025-04-03T03:38:52.675032Z"
    }
   },
   "cell_type": "code",
   "source": [
    "deepseek_relations_df = dfs[1][1]\n",
    "\n",
    "# show side by side boxplot of the similarities for each of the three columns in the same figure\n",
    "plt.figure(figsize=(10, 6))\n",
    "plt.boxplot([deepseek_relations_df['llm_response_baseline_en_language_similarity'], \n",
    "             deepseek_relations_df['llm_response_language_1_en_translated_similarity'], \n",
    "             deepseek_relations_df['llm_response_language_2_en_translated_similarity']],\n",
    "            labels=['Baseline', 'Language 1', 'Language 2'])\n",
    "plt.title('Cosine Similarity of Deepseek Responses')\n",
    "plt.ylabel('Cosine Similarity')\n",
    "plt.xlabel('Response Type')\n",
    "plt.grid()\n",
    "plt.show()"
   ],
   "id": "7a5fbd5ca77aca22",
   "outputs": [
    {
     "name": "stderr",
     "output_type": "stream",
     "text": [
      "/var/folders/k4/dly3t66933g95d4r45sgxshc0000gn/T/ipykernel_72620/3252448456.py:5: MatplotlibDeprecationWarning: The 'labels' parameter of boxplot() has been renamed 'tick_labels' since Matplotlib 3.9; support for the old name will be dropped in 3.11.\n",
      "  plt.boxplot([deepseek_relations_df['llm_response_baseline_en_language_similarity'],\n"
     ]
    },
    {
     "data": {
      "text/plain": [
       "<Figure size 1000x600 with 1 Axes>"
      ],
      "image/png": "[encoded data removed]"
     },
     "metadata": {},
     "output_type": "display_data"
    }
   ],
   "execution_count": 144
  },
  {
   "metadata": {},
   "cell_type": "code",
   "outputs": [],
   "execution_count": null,
   "source": "",
   "id": "bf0a9cf9384f12d7"
  }
 ],
 "metadata": {
  "kernelspec": {
   "display_name": "Python 3",
   "language": "python",
   "name": "python3"
  },
  "language_info": {
   "codemirror_mode": {
    "name": "ipython",
    "version": 2
   },
   "file_extension": ".py",
   "mimetype": "text/x-python",
   "name": "python",
   "nbconvert_exporter": "python",
   "pygments_lexer": "ipython2",
   "version": "2.7.6"
  }
 },
 "nbformat": 4,
 "nbformat_minor": 5
}
